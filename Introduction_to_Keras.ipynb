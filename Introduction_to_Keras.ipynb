{
 "cells": [
  {
   "cell_type": "code",
   "execution_count": 11,
   "metadata": {},
   "outputs": [
    {
     "name": "stdout",
     "output_type": "stream",
     "text": [
      "Imported Dataset\n"
     ]
    }
   ],
   "source": [
    "from keras.datasets import imdb\n",
    "print(\"Imported Dataset\")\n",
    "import numpy as np\n",
    "# save np.load\n",
    "np_load_old = np.load\n",
    "\n",
    "# modify the default parameters of np.load\n",
    "np.load = lambda *a,**k: np_load_old(*a, allow_pickle=True, **k)\n",
    "\n",
    "# call load_data with allow_pickle implicitly set to true\n",
    "(train_data, train_labels), (test_data, test_labels) = imdb.load_data(num_words=10000)"
   ]
  },
  {
   "cell_type": "code",
   "execution_count": 25,
   "metadata": {},
   "outputs": [
    {
     "name": "stdout",
     "output_type": "stream",
     "text": [
      "Decoded Reviews\n",
      "? this film was just brilliant casting location scenery story direction everyone's really suited the part they played and you could just imagine being there robert ? is an amazing actor and now the same being director ? father came from the same scottish island as myself so i loved the fact there was a real connection with this film the witty remarks throughout the film were great it was just brilliant so much that i bought the film as soon as it was released for ? and would recommend it to everyone to watch and the fly fishing was amazing really cried at the end it was so sad and you know what they say if you cry at a film it must have been good and this definitely was also ? to the two little boy's that played the ? of norman and paul they were just brilliant children are often left out of the ? list i think because the stars that play them all grown up are such a big profile for the whole film but these children are amazing and should be praised for what they have done don't you think the whole story was so lovely because it was true and was someone's life after all that was shared with us all\n"
     ]
    }
   ],
   "source": [
    "# decode a movie review from integer value to english words\n",
    "word_index = imdb.get_word_index()\n",
    "reverse_word_index = dict(\n",
    "            [(value,key) for (key,value) in word_index.items()])\n",
    "decoded_review = ' '.join(\n",
    "            [reverse_word_index.get(i-3,'?') for i in train_data[0]])\n",
    "print(\"Decoded Reviews\")\n",
    "print(decoded_review)"
   ]
  },
  {
   "cell_type": "code",
   "execution_count": 44,
   "metadata": {},
   "outputs": [
    {
     "name": "stdout",
     "output_type": "stream",
     "text": [
      "one-hot encoding complete.. aka train and test data is vectorized\n"
     ]
    }
   ],
   "source": [
    "# Encode integer sequences into a binary matrix\n",
    "\n",
    "def vectorize_sequences(sequences,dimension=10000):\n",
    "    \n",
    "    results = np.zeros((len(sequences),dimension)) \n",
    "    for i, sequence in enumerate(sequences):\n",
    "        results[i,sequence] = 1\n",
    "    return results\n",
    "\n",
    "x_train = vectorize_sequences(train_data)\n",
    "x_test = vectorize_sequences(test_data)\n",
    "\n",
    "y_train = np.asarray(train_labels).astype('float32')\n",
    "y_test = np.asarray(test_labels).astype('float32')\n",
    "print(\"one-hot encoding complete.. aka train and test data is vectorized\")"
   ]
  },
  {
   "cell_type": "code",
   "execution_count": 45,
   "metadata": {},
   "outputs": [
    {
     "name": "stderr",
     "output_type": "stream",
     "text": [
      "W0810 18:59:23.898140 139684990388032 deprecation_wrapper.py:119] From /home/zain/anaconda3/lib/python3.7/site-packages/keras/backend/tensorflow_backend.py:986: The name tf.assign_add is deprecated. Please use tf.compat.v1.assign_add instead.\n",
      "\n"
     ]
    },
    {
     "name": "stdout",
     "output_type": "stream",
     "text": [
      "Epoch 1/20\n",
      "15000/15000 [==============================] - 4s 294us/step - loss: 0.4988 - acc: 0.7827\n",
      "Epoch 2/20\n",
      "15000/15000 [==============================] - 2s 142us/step - loss: 0.2907 - acc: 0.9037 0s - loss: 0.2986 - acc:\n",
      "Epoch 3/20\n",
      "15000/15000 [==============================] - 2s 143us/step - loss: 0.2144 - acc: 0.9291\n",
      "Epoch 4/20\n",
      "15000/15000 [==============================] - 2s 142us/step - loss: 0.1694 - acc: 0.9446\n",
      "Epoch 5/20\n",
      "15000/15000 [==============================] - 2s 141us/step - loss: 0.1380 - acc: 0.9561\n",
      "Epoch 6/20\n",
      "15000/15000 [==============================] - 2s 141us/step - loss: 0.1142 - acc: 0.9649\n",
      "Epoch 7/20\n",
      "15000/15000 [==============================] - 2s 142us/step - loss: 0.0933 - acc: 0.9719\n",
      "Epoch 8/20\n",
      "15000/15000 [==============================] - 2s 141us/step - loss: 0.0822 - acc: 0.9755\n",
      "Epoch 9/20\n",
      "15000/15000 [==============================] - 2s 143us/step - loss: 0.0631 - acc: 0.9830\n",
      "Epoch 10/20\n",
      "15000/15000 [==============================] - 2s 149us/step - loss: 0.0525 - acc: 0.9879\n",
      "Epoch 11/20\n",
      "15000/15000 [==============================] - 2s 144us/step - loss: 0.0433 - acc: 0.9900\n",
      "Epoch 12/20\n",
      "15000/15000 [==============================] - 2s 142us/step - loss: 0.0366 - acc: 0.9923\n",
      "Epoch 13/20\n",
      "15000/15000 [==============================] - 2s 141us/step - loss: 0.0268 - acc: 0.9950\n",
      "Epoch 14/20\n",
      "15000/15000 [==============================] - 2s 141us/step - loss: 0.0216 - acc: 0.9966\n",
      "Epoch 15/20\n",
      "15000/15000 [==============================] - 2s 144us/step - loss: 0.0247 - acc: 0.9947\n",
      "Epoch 16/20\n",
      "15000/15000 [==============================] - 2s 143us/step - loss: 0.0104 - acc: 0.9992\n",
      "Epoch 17/20\n",
      "15000/15000 [==============================] - 2s 143us/step - loss: 0.0144 - acc: 0.9971\n",
      "Epoch 18/20\n",
      "15000/15000 [==============================] - 2s 145us/step - loss: 0.0068 - acc: 0.9997\n",
      "Epoch 19/20\n",
      "15000/15000 [==============================] - 2s 144us/step - loss: 0.0079 - acc: 0.9995\n",
      "Epoch 20/20\n",
      "15000/15000 [==============================] - 2s 149us/step - loss: 0.0065 - acc: 0.9990\n"
     ]
    }
   ],
   "source": [
    "from keras import models\n",
    "from keras import layers\n",
    "\n",
    "# Model Definition\n",
    "\n",
    "model = models.Sequential()\n",
    "model.add(layers.Dense(16,activation='relu', input_shape=(10000,)))\n",
    "model.add(layers.Dense(16,activation='relu'))\n",
    "model.add(layers.Dense(1,activation='sigmoid'))\n",
    "\n",
    "\n",
    "# Compiling the model\n",
    "\n",
    "model.compile(optimizer='rmsprop',\n",
    "              loss='binary_crossentropy',\n",
    "              metrics=['acc'])\n",
    "\n",
    "# setting aside validation set\n",
    "\n",
    "x_val = x_train[:10000]\n",
    "partial_x_train = x_train[10000:]\n",
    "y_val = y_train[:10000]\n",
    "partial_y_train = y_train[10000:]\n",
    "\n",
    "# Training Model\n",
    "\n",
    "history = model.fit(partial_x_train,\n",
    "                    partial_y_train,\n",
    "                    epochs=20,\n",
    "                    batch_size=512,\n",
    "                   ) # validation_data=(x_val, y_val))\n"
   ]
  },
  {
   "cell_type": "code",
   "execution_count": 50,
   "metadata": {},
   "outputs": [
    {
     "name": "stdout",
     "output_type": "stream",
     "text": [
      "dict_keys(['loss', 'acc'])\n"
     ]
    },
    {
     "data": {
      "image/png": "[encoded data removed]",
      "text/plain": [
       "<Figure size 432x288 with 1 Axes>"
      ]
     },
     "metadata": {
      "needs_background": "light"
     },
     "output_type": "display_data"
    }
   ],
   "source": [
    "import matplotlib.pyplot as plt\n",
    "\n",
    "# Plotting the training and validation loss\n",
    "\n",
    "history_dict   = history.history\n",
    "print(history_dict.keys())\n",
    "loss_value     = history_dict['loss']\n",
    "# val_loss_value = history_dict['val_loss']\n",
    "\n",
    "epochs         = range(1,len(history_dict['acc']) + 1)\n",
    "plt.plot(epochs, loss_value, 'bo', label='Training loss')\n",
    "# plt.plot(epochs, val_loss_values, 'b', label='Validation loss')\n",
    "plt.title('Training and validation loss')\n",
    "plt.xlabel('Epochs')\n",
    "plt.ylabel('Loss')\n",
    "plt.legend()\n",
    "plt.show()"
   ]
  },
  {
   "cell_type": "code",
   "execution_count": null,
   "metadata": {},
   "outputs": [],
   "source": [
    "# restore np.load for future normal usage\n",
    "np.load = np_load_old"
   ]
  }
 ],
 "metadata": {
  "kernelspec": {
   "display_name": "Python 3",
   "language": "python",
   "name": "python3"
  },
  "language_info": {
   "codemirror_mode": {
    "name": "ipython",
    "version": 3
   },
   "file_extension": ".py",
   "mimetype": "text/x-python",
   "name": "python",
   "nbconvert_exporter": "python",
   "pygments_lexer": "ipython3",
   "version": "3.7.3"
  }
 },
 "nbformat": 4,
 "nbformat_minor": 4
}
